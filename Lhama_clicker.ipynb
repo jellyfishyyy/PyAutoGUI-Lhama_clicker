{
 "cells": [
  {
   "cell_type": "code",
   "execution_count": 1,
   "id": "ca2cd885",
   "metadata": {},
   "outputs": [],
   "source": [
    "# 操作 browser 的 API\n",
    "from selenium.webdriver.chrome.service import Service\n",
    "from selenium import webdriver\n",
    "\n",
    "# 處理逾時例外的工具\n",
    "from selenium.common.exceptions import TimeoutException\n",
    "\n",
    "# 面對動態網頁，等待某個元素出現的工具，通常與 exptected_conditions 搭配\n",
    "from selenium.webdriver.support.ui import WebDriverWait\n",
    "\n",
    "# 搭配 WebDriverWait 使用，對元素狀態的一種期待條件，若條件發生，則等待結束，往下一行執行\n",
    "from selenium.webdriver.support import expected_conditions as EC\n",
    "\n",
    "# 期待元素出現要透過什麼方式指定，通常與 EC、WebDriverWait 一起使用\n",
    "from selenium.webdriver.common.by import By\n",
    "\n",
    "# 強制等待 (執行期間休息一下)\n",
    "from time import sleep\n",
    "\n",
    "import pyautogui\n",
    "import keyboard\n",
    "from IPython.display import clear_output\n",
    "\n",
    "'''\n",
    "selenium 啓動 Chrome 的進階配置參數\n",
    "參考網址：https://stackoverflow.max-everyday.com/2019/12/selenium-chrome-options/\n",
    "'''\n",
    "# 啟動瀏覽器工具的選項\n",
    "my_options = webdriver.ChromeOptions()\n",
    "# my_options.add_argument(\"--headless\")                #不開啟實體瀏覽器背景執行\n",
    "my_options.add_argument(\"--start-maximized\")         #最大化視窗\n",
    "my_options.add_argument(\"--incognito\")               #開啟無痕模式\n",
    "my_options.add_argument(\"--disable-popup-blocking\") #禁用彈出攔截\n",
    "my_options.add_argument(\"--disable-notifications\")  #取消 chrome 推播通知\n",
    "my_options.add_argument(\"--lang=zh-TW\")  #設定為正體中文\n",
    "\n",
    "\n",
    "# 使用 Chrome 的 WebDriver\n",
    "my_service = Service(executable_path=\"./chromedriver.exe\")"
   ]
  },
  {
   "cell_type": "code",
   "execution_count": 9,
   "id": "67020ba8",
   "metadata": {},
   "outputs": [],
   "source": [
    "def visit():\n",
    "    driver = webdriver.Chrome(\n",
    "        options = my_options,\n",
    "        service = my_service\n",
    "    )\n",
    "    driver.get('https://www.crazygames.com/game/lhama-clicker')\n",
    "    sleep(1)\n",
    "    \n",
    "def start():\n",
    "    btn_1_location = pyautogui.locateOnScreen('images_LC/1.png', confidence=0.9)\n",
    "    btn_1_point = pyautogui.center(btn_1_location)\n",
    "    pyautogui.click(btn_1_point.x, btn_1_point.y)\n",
    "\n",
    "def click():\n",
    "    pyautogui.PAUSE = 0.07\n",
    "    pyautogui.click(1049, 543)"
   ]
  },
  {
   "cell_type": "code",
   "execution_count": 11,
   "id": "f688f9c2",
   "metadata": {},
   "outputs": [],
   "source": [
    "if __name__ == \"__main__\":\n",
    "    visit()\n",
    "    start()\n",
    "    while True:\n",
    "        if keyboard.is_pressed('ctrl'):\n",
    "            click()\n",
    "        elif keyboard.is_pressed('alt'):\n",
    "            break"
   ]
  },
  {
   "cell_type": "code",
   "execution_count": null,
   "id": "717ba540",
   "metadata": {},
   "outputs": [],
   "source": []
  }
 ],
 "metadata": {
  "kernelspec": {
   "display_name": "Python 3 (ipykernel)",
   "language": "python",
   "name": "python3"
  },
  "language_info": {
   "codemirror_mode": {
    "name": "ipython",
    "version": 3
   },
   "file_extension": ".py",
   "mimetype": "text/x-python",
   "name": "python",
   "nbconvert_exporter": "python",
   "pygments_lexer": "ipython3",
   "version": "3.10.11"
  }
 },
 "nbformat": 4,
 "nbformat_minor": 5
}
